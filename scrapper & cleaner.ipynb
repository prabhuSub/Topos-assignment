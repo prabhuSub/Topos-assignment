{
 "cells": [
  {
   "cell_type": "code",
   "execution_count": 1,
   "metadata": {},
   "outputs": [],
   "source": [
    "from requests import get\n",
    "from bs4 import BeautifulSoup\n",
    "import pandas as pd\n",
    "import re"
   ]
  },
  {
   "cell_type": "code",
   "execution_count": 2,
   "metadata": {},
   "outputs": [],
   "source": [
    "url = \"https://en.wikipedia.org/wiki/List_of_United_States_cities_by_population\""
   ]
  },
  {
   "cell_type": "code",
   "execution_count": 3,
   "metadata": {},
   "outputs": [
    {
     "name": "stdout",
     "output_type": "stream",
     "text": [
      "<Response [200]>\n"
     ]
    },
    {
     "data": {
      "text/plain": [
       "bs4.BeautifulSoup"
      ]
     },
     "execution_count": 3,
     "metadata": {},
     "output_type": "execute_result"
    }
   ],
   "source": [
    "response = get(url)\n",
    "print(response)\n",
    "from bs4 import BeautifulSoup as bs ## importing Beautiful Soup\n",
    "html_soup = bs(response.text,'html.parser')## python's in built library HTML parser\n",
    "type(html_soup)"
   ]
  },
  {
   "cell_type": "code",
   "execution_count": 4,
   "metadata": {},
   "outputs": [],
   "source": [
    "id_check = html_soup.find(\"div\", class_=\"mw-content-ltr\")\n",
    "# id_check.prettify"
   ]
  },
  {
   "cell_type": "code",
   "execution_count": 5,
   "metadata": {},
   "outputs": [],
   "source": [
    "tables=id_check.find('table', class_=\"wikitable sortable\")\n",
    "# tables.prettify"
   ]
  },
  {
   "cell_type": "code",
   "execution_count": 6,
   "metadata": {},
   "outputs": [
    {
     "data": {
      "text/plain": [
       "['2018rank\\n',\n",
       " 'City\\n',\n",
       " 'State[c]\\n',\n",
       " '2018estimate\\n',\n",
       " '2010Census\\n',\n",
       " 'Change\\n',\n",
       " '2016 land area\\n',\n",
       " '2016 population density\\n',\n",
       " 'Location\\n']"
      ]
     },
     "execution_count": 6,
     "metadata": {},
     "output_type": "execute_result"
    }
   ],
   "source": [
    "header=tables.find_all('th')\n",
    "csv_header=[]\n",
    "for heads in header:\n",
    "    pr=heads.text\n",
    "    csv_header.append(pr)\n",
    "csv_header"
   ]
  },
  {
   "cell_type": "code",
   "execution_count": 7,
   "metadata": {},
   "outputs": [],
   "source": [
    "rows=tables.find_all('tr')\n",
    "# rows"
   ]
  },
  {
   "cell_type": "code",
   "execution_count": 8,
   "metadata": {},
   "outputs": [
    {
     "data": {
      "text/plain": [
       "315"
      ]
     },
     "execution_count": 8,
     "metadata": {},
     "output_type": "execute_result"
    }
   ],
   "source": [
    "len(rows)"
   ]
  },
  {
   "cell_type": "code",
   "execution_count": 9,
   "metadata": {},
   "outputs": [],
   "source": [
    "csv_rows=[]\n",
    "for values in rows:\n",
    "    texts=list(values)\n",
    "    csv_rows.append(texts)\n",
    "# print(csv_rows)"
   ]
  },
  {
   "cell_type": "code",
   "execution_count": 10,
   "metadata": {},
   "outputs": [],
   "source": [
    "def arr_cleaner(char, arr):\n",
    "    i=0\n",
    "    n=char\n",
    "    length=len(arr)\n",
    "    while(i<length):\n",
    "        if(arr[i]==n):\n",
    "            arr.remove(arr[i])\n",
    "            length = length -1  \n",
    "            continue\n",
    "        i = i+1\n",
    "    return arr"
   ]
  },
  {
   "cell_type": "code",
   "execution_count": 11,
   "metadata": {},
   "outputs": [],
   "source": [
    "# csv_rows_up=[]\n",
    "# for rows in csv_rows[0]:\n",
    "#     text=rows.text\n",
    "#     text=re.sub(\"\\n\", \"\", text)\n",
    "#     text=re.sub(\"[[]c]\", \"\", text)\n",
    "#     csv_rows_up.append(text)\n",
    "# csv_rows_up"
   ]
  },
  {
   "cell_type": "code",
   "execution_count": 12,
   "metadata": {
    "scrolled": true
   },
   "outputs": [],
   "source": [
    "for arr in csv_rows:\n",
    "    try:\n",
    "        arr_cleaner('\\n', arr)\n",
    "    except:\n",
    "        pass"
   ]
  },
  {
   "cell_type": "code",
   "execution_count": 13,
   "metadata": {},
   "outputs": [
    {
     "data": {
      "text/plain": [
       "'40°39′49″N 73°56′19″W\\ufeff / \\ufeff40.6635°N 73.9387°W\\ufeff / 40.6635; -73.9387\\ufeff (1 New York City)\\n'"
      ]
     },
     "execution_count": 13,
     "metadata": {},
     "output_type": "execute_result"
    }
   ],
   "source": [
    "csv_rows[1][10].text"
   ]
  }
 ],
 "metadata": {
  "kernelspec": {
   "display_name": "Python 3",
   "language": "python",
   "name": "python3"
  },
  "language_info": {
   "codemirror_mode": {
    "name": "ipython",
    "version": 3
   },
   "file_extension": ".py",
   "mimetype": "text/x-python",
   "name": "python",
   "nbconvert_exporter": "python",
   "pygments_lexer": "ipython3",
   "version": "3.6.8"
  }
 },
 "nbformat": 4,
 "nbformat_minor": 2
}
